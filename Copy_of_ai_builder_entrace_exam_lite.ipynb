{
  "nbformat": 4,
  "nbformat_minor": 0,
  "metadata": {
    "kernelspec": {
      "display_name": "Python 3",
      "language": "python",
      "name": "python3"
    },
    "language_info": {
      "codemirror_mode": {
        "name": "ipython",
        "version": 3
      },
      "file_extension": ".py",
      "mimetype": "text/x-python",
      "name": "python",
      "nbconvert_exporter": "python",
      "pygments_lexer": "ipython3",
      "version": "3.6.9"
    },
    "colab": {
      "name": "Copy of ai_builder_entrace_exam_lite.ipynb",
      "provenance": [],
      "collapsed_sections": [],
      "include_colab_link": true
    }
  },
  "cells": [
    {
      "cell_type": "markdown",
      "metadata": {
        "id": "view-in-github",
        "colab_type": "text"
      },
      "source": [
        "<a href=\"https://colab.research.google.com/github/pongsaphakmw/AI_Builders/blob/main/Copy_of_ai_builder_entrace_exam_lite.ipynb\" target=\"_parent\"><img src=\"https://colab.research.google.com/assets/colab-badge.svg\" alt=\"Open In Colab\"/></a>"
      ]
    },
    {
      "cell_type": "markdown",
      "metadata": {
        "id": "z5Km9Vhl3nKD"
      },
      "source": [
        "# Entrace Example for AI Builders"
      ]
    },
    {
      "cell_type": "markdown",
      "metadata": {
        "id": "smY-c99y3nKJ"
      },
      "source": [
        "จุดมุ่งหมายคือการทดสอบความรู้ปรับพื้นฐานสำหรับ AI Builders ทุกคำตอบสามารถหาได้จาก notebook ปรับพื้นฐาน `ai_builder_intro_python.ipynb`, `ai_builder_numpy.ipynb` และ `ai_builder_pandas.ipynb` \n",
        "\n",
        "เราหวังให้คุณพยามสุดความสามารถที่จะตอบ แต่ไม่จำเป็นต้องตอบได้ครบทุกข้อเพื่อที่จะได้รับการคัดเลือกเข้าโครงการ"
      ]
    },
    {
      "cell_type": "markdown",
      "metadata": {
        "id": "t5Oi1DU_3nKK"
      },
      "source": [
        "## Python"
      ]
    },
    {
      "cell_type": "markdown",
      "metadata": {
        "id": "WsyNxg9l3nKK"
      },
      "source": [
        "1. หาก `a=1` และ `b=2.5` แล้ว, `c` = $0.5(a+2b^5)$, `c` มีค่าเท่าไหร่? $b^x$ เขียนใน Python ได้แบบนี้ `b**x`"
      ]
    },
    {
      "cell_type": "code",
      "metadata": {
        "id": "GLyxo-XH3nKK"
      },
      "source": [
        "a=1\n",
        "b=2.5\n",
        "c = 0.5*a+2*b**5"
      ],
      "execution_count": null,
      "outputs": []
    },
    {
      "cell_type": "markdown",
      "metadata": {
        "id": "vgnaxU3S3nKL"
      },
      "source": [
        "2. `a`, `b`, และ `c` เป็นตัวแปรชนิดอะไรบ้าง? (ลองใช้ `type(a)`)"
      ]
    },
    {
      "cell_type": "code",
      "metadata": {
        "id": "pZb1JeDM3nKL",
        "colab": {
          "base_uri": "https://localhost:8080/"
        },
        "outputId": "e5047b5a-2232-437d-91ce-4631b202cbbe"
      },
      "source": [
        "type(a)"
      ],
      "execution_count": null,
      "outputs": [
        {
          "output_type": "execute_result",
          "data": {
            "text/plain": [
              "int"
            ]
          },
          "metadata": {
            "tags": []
          },
          "execution_count": 5
        }
      ]
    },
    {
      "cell_type": "markdown",
      "metadata": {
        "id": "KpvsGvNo3nKM"
      },
      "source": [
        "3. จากตัวแปร `s = 'AI Builders - A Program For Kids Who Wants to AI Good Good'`, เราจะดึงคำว่า `AI Good` ออกมาได้อย่างไร?"
      ]
    },
    {
      "cell_type": "code",
      "metadata": {
        "id": "Yt3-ghIm3nKM",
        "colab": {
          "base_uri": "https://localhost:8080/"
        },
        "outputId": "974cd36b-934e-49dc-b0dd-ab4f074e449e"
      },
      "source": [
        "s = 'AI Builders - A Program For Kids Who Wants to AI Good Good'\n",
        "\n",
        "#ใส่คำตอบตรงนี้\n",
        "print(s.find('AI Good'))\n",
        "print(s[46:54])\n"
      ],
      "execution_count": 9,
      "outputs": [
        {
          "output_type": "stream",
          "text": [
            "46\n",
            "AI Good \n"
          ],
          "name": "stdout"
        }
      ]
    },
    {
      "cell_type": "markdown",
      "metadata": {
        "id": "rGprZLyC3nKN"
      },
      "source": [
        "4. ใช้ loop `print` ทุก element ใน `l` ยกเว้น element ที่เขียนว่า `AI`\n",
        "\n",
        "`l = ['AI','Builders','-','A','Program','For','Kids','Who','Wants','to','AI','Good','Good']`\n",
        "\n",
        "ลองใช้ `for` และ `if` เพื่อกรอง element ที่มีค่าเป็น `AI` ออก"
      ]
    },
    {
      "cell_type": "code",
      "metadata": {
        "id": "eVmADv0o3nKO",
        "colab": {
          "base_uri": "https://localhost:8080/"
        },
        "outputId": "f9afac9b-c3dc-40db-ae24-7fd41e183cff"
      },
      "source": [
        "l = ['AI','Builders','-','A','Program','For','Kids','Who','Wants','to','AI','Good','Good']\n",
        "\n",
        "#เขียน loop ตรงนี้\n",
        "\n",
        "for x in l:\n",
        "  if x != 'AI':\n",
        "    print(x)\n",
        "\n"
      ],
      "execution_count": null,
      "outputs": [
        {
          "output_type": "stream",
          "text": [
            "Builders\n",
            "-\n",
            "A\n",
            "Program\n",
            "For\n",
            "Kids\n",
            "Who\n",
            "Wants\n",
            "to\n",
            "Good\n",
            "Good\n"
          ],
          "name": "stdout"
        }
      ]
    },
    {
      "cell_type": "markdown",
      "metadata": {
        "id": "FlcY_MLe3nKO"
      },
      "source": [
        "5. เขียนฟังชั่น `midpoint` ที่หาจุดกึ่งกลางระหว่างตัวเลข `a` และ `b` "
      ]
    },
    {
      "cell_type": "code",
      "metadata": {
        "id": "cLHr836Q3nKO",
        "colab": {
          "base_uri": "https://localhost:8080/"
        },
        "outputId": "9171c150-a462-42da-e931-f5997428e57d"
      },
      "source": [
        "def midpoint(a, b):\n",
        "    return (a+b)/2\n",
        "    \"\"\"\n",
        "    Computes a midpoint between a and b.\n",
        "    Hint: midpoint of a and b is (a+b)/2\n",
        "    \"\"\"\n",
        "    \n",
        "\n",
        "print(midpoint(1, 4))  # expected 2.5\n",
        "print(midpoint(3, 3))  # expected 3\n",
        "print(midpoint(-2, 2))  # expected 0"
      ],
      "execution_count": 18,
      "outputs": [
        {
          "output_type": "stream",
          "text": [
            "2.5\n",
            "3.0\n",
            "0.0\n"
          ],
          "name": "stdout"
        }
      ]
    },
    {
      "cell_type": "markdown",
      "metadata": {
        "id": "FEWFvoJQ3nKP"
      },
      "source": [
        "6. เขียนฟังชั่น `fizzbuzz` ที่รับตัวเลข `x`\n",
        "\n",
        "\n",
        "- ถ้า `x` หารด้วย 2 ลงให้คืน string ว่า `fizz`\n",
        "- ถ้า `x` หารด้วย 3 ลงให้คืน string ว่า `buzz`\n",
        "- ถ้า `x` หารด้วยทั้ง 2 และ 3 ลงให้คืน string ว่า `fizzbuzz`\n",
        "- นอกนั้นให้คืน `None`\n",
        "\n",
        "ลองใช้ `if`, `elif` และ `else` ในฟังชั่น `fizzbuzz`"
      ]
    },
    {
      "cell_type": "code",
      "metadata": {
        "id": "BdOgW4Qx3nKP",
        "colab": {
          "base_uri": "https://localhost:8080/"
        },
        "outputId": "ec46239e-e9ae-4d5b-ce42-746f65d1e424"
      },
      "source": [
        "def fizzbuzz(x):\n",
        "  if x%2 == 0 and x%3 == 0:\n",
        "    return 'fizzbuzz'\n",
        "  elif x%2 == 0:\n",
        "    return 'buzz'\n",
        "  elif x%3 == 0:\n",
        "    return 'fizz'\n",
        "  else :\n",
        "    return None\n",
        "\n",
        "for i in range(20):\n",
        "    print(i,fizzbuzz(i))"
      ],
      "execution_count": 86,
      "outputs": [
        {
          "output_type": "stream",
          "text": [
            "0 fizzbuzz\n",
            "1 None\n",
            "2 buzz\n",
            "3 fizz\n",
            "4 buzz\n",
            "5 None\n",
            "6 fizzbuzz\n",
            "7 None\n",
            "8 buzz\n",
            "9 fizz\n",
            "10 buzz\n",
            "11 None\n",
            "12 fizzbuzz\n",
            "13 None\n",
            "14 buzz\n",
            "15 fizz\n",
            "16 buzz\n",
            "17 None\n",
            "18 fizzbuzz\n",
            "19 None\n"
          ],
          "name": "stdout"
        }
      ]
    },
    {
      "cell_type": "markdown",
      "metadata": {
        "id": "z151AG5m3nKQ"
      },
      "source": [
        "## Numpy and Linear Algebra"
      ]
    },
    {
      "cell_type": "code",
      "metadata": {
        "id": "dplh4_0A3nKQ"
      },
      "source": [
        "import numpy as np"
      ],
      "execution_count": 3,
      "outputs": []
    },
    {
      "cell_type": "markdown",
      "metadata": {
        "id": "DRCywbo43nKR"
      },
      "source": [
        "1. สร้าง numpy array `a` ที่มีมิติ `3*3` โดยมีค่าเป็นตัวเลขจาก 1 ถึง 9 (ลองใช้ `np.arange` และ `np.reshape`)"
      ]
    },
    {
      "cell_type": "code",
      "metadata": {
        "id": "c_L5zHuY3nKR",
        "colab": {
          "base_uri": "https://localhost:8080/"
        },
        "outputId": "4b7811ad-83cf-47ca-ac65-f55944edd27d"
      },
      "source": [
        "\n",
        "a = np.arange(start=1, stop=10).reshape((3, 3)) #ใส่คำตอบตรงนี\n",
        "a\n",
        "\n",
        "\n",
        "\n"
      ],
      "execution_count": 20,
      "outputs": [
        {
          "output_type": "execute_result",
          "data": {
            "text/plain": [
              "array([[1, 2, 3],\n",
              "       [4, 5, 6],\n",
              "       [7, 8, 9]])"
            ]
          },
          "metadata": {
            "tags": []
          },
          "execution_count": 20
        }
      ]
    },
    {
      "cell_type": "markdown",
      "metadata": {
        "id": "dKUNRBTj3nKS"
      },
      "source": [
        "2. สร้าง numpy array `b` ที่มีมิติ `4*3` โดยมีค่าเป็นตัวเลขจาก 1 ถึง 12 (ลองใช้ `np.arange` และ `np.reshape`)"
      ]
    },
    {
      "cell_type": "code",
      "metadata": {
        "id": "Da3BX_qf3nKS",
        "colab": {
          "base_uri": "https://localhost:8080/"
        },
        "outputId": "e72f67b9-a35e-46aa-cdbb-13645104a3a4"
      },
      "source": [
        "b = np.arange(start=1, stop=13).reshape((4,3))#ใส่คำตอบตรงนี้\n",
        "b "
      ],
      "execution_count": 21,
      "outputs": [
        {
          "output_type": "execute_result",
          "data": {
            "text/plain": [
              "array([[ 1,  2,  3],\n",
              "       [ 4,  5,  6],\n",
              "       [ 7,  8,  9],\n",
              "       [10, 11, 12]])"
            ]
          },
          "metadata": {
            "tags": []
          },
          "execution_count": 21
        }
      ]
    },
    {
      "cell_type": "markdown",
      "metadata": {
        "id": "O1G-ydjl3nKT"
      },
      "source": [
        "3. เราสามารถหาค่า `a` dot product `b` ได้หรือไม่-เพราะอะไร (ลองใช้ `a.dot(b)` หรือ `a@b`)"
      ]
    },
    {
      "cell_type": "code",
      "metadata": {
        "id": "bZWahF6i3nKT",
        "colab": {
          "base_uri": "https://localhost:8080/",
          "height": 198
        },
        "outputId": "08555320-d1d7-4dfa-d45b-5b8023e6f7f7"
      },
      "source": [
        "#ใส่คำตอบตรงนี้\n",
        "a@b\n"
      ],
      "execution_count": 23,
      "outputs": [
        {
          "output_type": "error",
          "ename": "ValueError",
          "evalue": "ignored",
          "traceback": [
            "\u001b[0;31m---------------------------------------------------------------------------\u001b[0m",
            "\u001b[0;31mValueError\u001b[0m                                Traceback (most recent call last)",
            "\u001b[0;32m<ipython-input-23-660b655b4da5>\u001b[0m in \u001b[0;36m<module>\u001b[0;34m()\u001b[0m\n\u001b[1;32m      1\u001b[0m \u001b[0;31m#ใส่คำตอบตรงนี้\u001b[0m\u001b[0;34m\u001b[0m\u001b[0;34m\u001b[0m\u001b[0;34m\u001b[0m\u001b[0m\n\u001b[0;32m----> 2\u001b[0;31m \u001b[0ma\u001b[0m\u001b[0;34m@\u001b[0m\u001b[0mb\u001b[0m\u001b[0;34m\u001b[0m\u001b[0;34m\u001b[0m\u001b[0m\n\u001b[0m",
            "\u001b[0;31mValueError\u001b[0m: matmul: Input operand 1 has a mismatch in its core dimension 0, with gufunc signature (n?,k),(k,m?)->(n?,m?) (size 4 is different from 3)"
          ]
        }
      ]
    },
    {
      "cell_type": "markdown",
      "metadata": {
        "id": "UCM-78YA3nKU"
      },
      "source": [
        "4. หาค่า `a` dot product (`b` transposed) (tranpose `b` ได้ด้วยคำสั่ง `b.T`)"
      ]
    },
    {
      "cell_type": "code",
      "metadata": {
        "id": "pQSifE5j3nKU",
        "colab": {
          "base_uri": "https://localhost:8080/"
        },
        "outputId": "36961df9-f247-4806-bc01-ec5b52bf228f"
      },
      "source": [
        "#ใส่คำตอบตรงนี้\n",
        "a@b.T\n"
      ],
      "execution_count": 24,
      "outputs": [
        {
          "output_type": "execute_result",
          "data": {
            "text/plain": [
              "array([[ 14,  32,  50,  68],\n",
              "       [ 32,  77, 122, 167],\n",
              "       [ 50, 122, 194, 266]])"
            ]
          },
          "metadata": {
            "tags": []
          },
          "execution_count": 24
        }
      ]
    },
    {
      "cell_type": "markdown",
      "metadata": {
        "id": "Ms2pIU6V3nKU"
      },
      "source": [
        "5. มิติ (แถวและคอลัมน์) ของ `a` และ `b` คืออะไร (ลองใช้ `a.shape`)"
      ]
    },
    {
      "cell_type": "code",
      "metadata": {
        "id": "ahANBHTB3nKV",
        "colab": {
          "base_uri": "https://localhost:8080/"
        },
        "outputId": "2780d447-beb5-435a-d48e-28ad06286a00"
      },
      "source": [
        "a.shape\n",
        "\n",
        "#ใส่คำตอบตรงนี้\n"
      ],
      "execution_count": 28,
      "outputs": [
        {
          "output_type": "execute_result",
          "data": {
            "text/plain": [
              "(3, 3)"
            ]
          },
          "metadata": {
            "tags": []
          },
          "execution_count": 28
        }
      ]
    },
    {
      "cell_type": "markdown",
      "metadata": {
        "id": "okPFVDJR3nKW"
      },
      "source": [
        "6. คูณทุก element ของ `a` ด้วย -1"
      ]
    },
    {
      "cell_type": "code",
      "metadata": {
        "id": "WMFUq1qp3nKW",
        "colab": {
          "base_uri": "https://localhost:8080/"
        },
        "outputId": "abb98f56-88ab-43fe-dd5b-a2afd1b61802"
      },
      "source": [
        "#ใส่คำตอบตรงนี้\n",
        "a = np.arange(start=1, stop=10).reshape((3, 3)) #ใส่คำตอบตรงนี\n",
        "a*(-1)\n"
      ],
      "execution_count": 54,
      "outputs": [
        {
          "output_type": "execute_result",
          "data": {
            "text/plain": [
              "array([[-1, -2, -3],\n",
              "       [-4, -5, -6],\n",
              "       [-7, -8, -9]])"
            ]
          },
          "metadata": {
            "tags": []
          },
          "execution_count": 54
        }
      ]
    },
    {
      "cell_type": "markdown",
      "metadata": {
        "id": "3PO38Mdi3nKW"
      },
      "source": [
        "7. เปลี่ยนมิติของ `b` ให้เป็น `2*2*3` (ลองใช้ `np.reshape`)"
      ]
    },
    {
      "cell_type": "code",
      "metadata": {
        "id": "TrlHOQtn3nKW",
        "colab": {
          "base_uri": "https://localhost:8080/"
        },
        "outputId": "36bbda61-16a9-4ab0-d223-141ccb7018e3"
      },
      "source": [
        "#ใส่คำตอบตรงนี้\n",
        "b = np.arange(1,13).reshape((2,2,3))\n",
        "b"
      ],
      "execution_count": 57,
      "outputs": [
        {
          "output_type": "execute_result",
          "data": {
            "text/plain": [
              "array([[[ 1,  2,  3],\n",
              "        [ 4,  5,  6]],\n",
              "\n",
              "       [[ 7,  8,  9],\n",
              "        [10, 11, 12]]])"
            ]
          },
          "metadata": {
            "tags": []
          },
          "execution_count": 57
        }
      ]
    },
    {
      "cell_type": "markdown",
      "metadata": {
        "id": "7KIETaKn3nKW"
      },
      "source": [
        "8. ค่าเฉลี่ยของแต่ละแถวของ `a` (`3*3`) คืออะไร (ลองใช้ `np.mean` สังเกตว่าควรใช้ `axis=1` หรือ `axis=0`)"
      ]
    },
    {
      "cell_type": "code",
      "metadata": {
        "id": "M6T7SG2_3nKX",
        "colab": {
          "base_uri": "https://localhost:8080/"
        },
        "outputId": "bf123fe4-48cc-4241-89d8-54818f2cd3e2"
      },
      "source": [
        "#ใส่คำตอบตรงนี้\n",
        "a = np.arange(1,10).reshape((3,3)).mean(axis=1)\n",
        "a\n",
        "\n"
      ],
      "execution_count": 67,
      "outputs": [
        {
          "output_type": "execute_result",
          "data": {
            "text/plain": [
              "array([2., 5., 8.])"
            ]
          },
          "metadata": {
            "tags": []
          },
          "execution_count": 67
        }
      ]
    },
    {
      "cell_type": "markdown",
      "metadata": {
        "id": "CAC2BkR23nKX"
      },
      "source": [
        "9. ค่าเฉลี่ยของแต่ละคอลัมน์ของ `a` (`3*3`) คืออะไร (ลองใช้ `np.mean` สังเกตว่าควรใช้ `axis=1` หรือ `axis=0`)"
      ]
    },
    {
      "cell_type": "code",
      "metadata": {
        "id": "SD1RROpk3nKa",
        "colab": {
          "base_uri": "https://localhost:8080/"
        },
        "outputId": "792d0e10-6c28-4103-ee14-f254c9960585"
      },
      "source": [
        "#ใส่คำตอบตรงนี้\n",
        "a = np.arange(1,10).reshape((3,3)).mean(axis=0)\n",
        "a"
      ],
      "execution_count": 113,
      "outputs": [
        {
          "output_type": "execute_result",
          "data": {
            "text/plain": [
              "array([4., 5., 6.])"
            ]
          },
          "metadata": {
            "tags": []
          },
          "execution_count": 113
        }
      ]
    },
    {
      "cell_type": "markdown",
      "metadata": {
        "id": "MonJggHl3nKb"
      },
      "source": [
        "10. ถ้าเราต้องการหา `[[1,2],[4,5]]` จาก `a` เราต้องเลือกอย่างไร"
      ]
    },
    {
      "cell_type": "code",
      "metadata": {
        "id": "pETr8fXa3nKc",
        "colab": {
          "base_uri": "https://localhost:8080/"
        },
        "outputId": "e297b297-63c5-4a07-c11e-880c05b026c9"
      },
      "source": [
        "#เราสามารถ slice แต่ละส่วนของ `np.array` ได้เหมือนกับ list เช่น \n",
        "a=np.array([[1,2],[4,5]])\n",
        "a[:2]"
      ],
      "execution_count": 126,
      "outputs": [
        {
          "output_type": "execute_result",
          "data": {
            "text/plain": [
              "array([[1, 2],\n",
              "       [4, 5]])"
            ]
          },
          "metadata": {
            "tags": []
          },
          "execution_count": 126
        }
      ]
    },
    {
      "cell_type": "code",
      "metadata": {
        "id": "okTaqJL53nKd",
        "colab": {
          "base_uri": "https://localhost:8080/"
        },
        "outputId": "4a3809c5-557f-4e9b-9ad3-dfcb5ec2ff52"
      },
      "source": [
        "#ใส่คำตอบตรงนี้\n",
        "a=np.array([[1,2],[4,5]])\n",
        "a[:2]"
      ],
      "execution_count": 127,
      "outputs": [
        {
          "output_type": "execute_result",
          "data": {
            "text/plain": [
              "array([[1, 2],\n",
              "       [4, 5]])"
            ]
          },
          "metadata": {
            "tags": []
          },
          "execution_count": 127
        }
      ]
    },
    {
      "cell_type": "markdown",
      "metadata": {
        "id": "z5J7BWbM3nKd"
      },
      "source": [
        "## Pandas and Data Exploration"
      ]
    },
    {
      "cell_type": "markdown",
      "metadata": {
        "id": "oAauF4-w3nKd"
      },
      "source": [
        "ดาวน์โหลดชุดข้อมูล [อุบัติเหตุบนโครงข่ายถนนของกระทรวงคมนาคม 2562](https://data.go.th/dataset/roadaccident) (ไฟล์ชื่อ `ubatiehtuthaangthnn.xlsx`) จาก [data.go.th](https://data.go.th/). ตอบคำถามต่อไปนี้"
      ]
    },
    {
      "cell_type": "code",
      "metadata": {
        "id": "XUawL1lw3nKe"
      },
      "source": [
        "import pandas as pd"
      ],
      "execution_count": 3,
      "outputs": []
    },
    {
      "cell_type": "markdown",
      "metadata": {
        "id": "tkCjJOS03nKe"
      },
      "source": [
        "1. อ่านไฟล์ `ubatiehtuthaangthnn.xlsx` เข้ามาเป็น `pandas.DataFrame`; `df` มีกี่แถว-คอลัมน์? (ลองใช้ `df.shape`)"
      ]
    },
    {
      "cell_type": "code",
      "metadata": {
        "id": "R8wXDBTX3nKe",
        "colab": {
          "base_uri": "https://localhost:8080/"
        },
        "outputId": "9740564d-54c8-460a-9dd8-58fa1902a941"
      },
      "source": [
        "url = 'https://archive.org/download/ubatiehtuthaangthnn/ubatiehtuthaangthnn.xlsx'\n",
        "df = pd.read_excel(url)\n",
        "df.shape\n",
        "\n",
        "#ใส่คำตอบตรงนี้\n"
      ],
      "execution_count": 4,
      "outputs": [
        {
          "output_type": "execute_result",
          "data": {
            "text/plain": [
              "(19965, 20)"
            ]
          },
          "metadata": {
            "tags": []
          },
          "execution_count": 4
        }
      ]
    },
    {
      "cell_type": "markdown",
      "metadata": {
        "id": "snnnQOTG3nKe"
      },
      "source": [
        "2. เรียกดู 20 แถวแรกและ 20 แถวสุดท้ายของ `df` (ลองใช้ `df.head(20)` และ `df.tail(20)`)"
      ]
    },
    {
      "cell_type": "code",
      "metadata": {
        "id": "FXeH0AVo3nKg"
      },
      "source": [
        "#ใส่คำตอบตรงนี้\n",
        "df.head(20)\n",
        "df.tail(20)"
      ],
      "execution_count": null,
      "outputs": []
    },
    {
      "cell_type": "markdown",
      "metadata": {
        "id": "_pPlgEcj3nKg"
      },
      "source": [
        "3. จังหวัดใดมีอุบัติเหตุเยอะที่สุดถ้าอ้างอิงจาก `df`? (ลองใช้ `df['จังหวัด'].value_counts()`)"
      ]
    },
    {
      "cell_type": "code",
      "metadata": {
        "id": "bSZ36-pa3nKg"
      },
      "source": [
        "#ใส่คำตอบตรงนี้\n",
        "df['จังหวัด'].value_counts()\n"
      ],
      "execution_count": null,
      "outputs": []
    },
    {
      "cell_type": "markdown",
      "metadata": {
        "id": "Bp5YuGoN3nKg"
      },
      "source": [
        "4. เลือกเฉพาะแถวที่เป็นอุบัติเหตุที่มีผู้เสียชีวิต 0 ราย / มีอุบัติเหตุที่ไม่มีผู้เสียชีวิตกี่ครั้ง? (เราสามารถกรอง dataframe ได้ด้วยคำสั่ง `df[df['จำนวนผู้เสียชีวิต']==0]`)"
      ]
    },
    {
      "cell_type": "code",
      "metadata": {
        "id": "A7aZDZOL3nKg"
      },
      "source": [
        "#ใส่คำตอบตรงนี้\n",
        "df[df['จำนวนผู้เสียชวิต']==0]"
      ],
      "execution_count": null,
      "outputs": []
    },
    {
      "cell_type": "markdown",
      "metadata": {
        "id": "7EDcXiBu3nKg"
      },
      "source": [
        "5. ค่าเฉลี่ยของ latitude, logitude ของอุบัติเหตุที่เกิดขึ้นในจังหวัดเชียงใหม่อยู่ที่เท่าใด? (กรองให้เหลือแค่จังหวัดเชียงใหม่แล้วหาค่าเฉลี่ยด้วยคำสั่ง `df.LATITUDE.mean()` และ `df.LONGITUDE.mean()`)"
      ]
    },
    {
      "cell_type": "code",
      "metadata": {
        "id": "s0rfVNwT3nKg",
        "colab": {
          "base_uri": "https://localhost:8080/"
        },
        "outputId": "c37e4d02-19dd-478f-b84d-b81ea65c3319"
      },
      "source": [
        "#ใส่คำตอบตรงนี้\n",
        "print(df[df['จังหวัด'] == 'เชียงใหม่'].LATITUDE.mean())\n",
        "print(df[df['จังหวัด'] == 'เชียงใหม่'].LONGITUDE.mean())\n",
        "\n"
      ],
      "execution_count": 107,
      "outputs": [
        {
          "output_type": "stream",
          "text": [
            "18.91090138416936\n",
            "98.91462670826341\n"
          ],
          "name": "stdout"
        }
      ]
    },
    {
      "cell_type": "markdown",
      "metadata": {
        "id": "NRXn8t3X3nKg"
      },
      "source": [
        "6. `ลักษณะการเกิดอุบัติเหตุ ` แบบใดมี `จำนวนผู้เสียชวิต` โดยเฉลี่ยสูงที่สุด?"
      ]
    },
    {
      "cell_type": "code",
      "metadata": {
        "id": "36-RlZU93nKh",
        "colab": {
          "base_uri": "https://localhost:8080/",
          "height": 494
        },
        "outputId": "5cd18fd0-0821-4728-8c23-7adc1e0ae9b5"
      },
      "source": [
        "#Hint 1: df[COLUMN_NAME].value_counts().reset_index() will give you dataframe version of value counts\n",
        "#Hint 2: See what sort_values() does\n",
        "\n",
        "#ใส่คำตอบตรงนี้\n",
        "df = df['ลักษณะการเกิดอุบัติเหตุ '] & df['จำนวนผู้เสียชวิต']\n",
        "# df['ลักษณะการเกิดอุบัติเหตุ '].value_counts().reset_index()\n",
        "# df = df[(df['closing_price'] >= 99) & (df['closing_price'] <= 101)]\n",
        "# df['จำนวนผู้เสียชวิต'].value_counts().reset_index()\n",
        "# df['จำนวนผู้เสียชวิต'].sort_values().value_counts()"
      ],
      "execution_count": 6,
      "outputs": [
        {
          "output_type": "error",
          "ename": "TypeError",
          "evalue": "ignored",
          "traceback": [
            "\u001b[0;31m---------------------------------------------------------------------------\u001b[0m",
            "\u001b[0;31mTypeError\u001b[0m                                 Traceback (most recent call last)",
            "\u001b[0;32m/usr/local/lib/python3.7/dist-packages/pandas/core/ops/array_ops.py\u001b[0m in \u001b[0;36mna_logical_op\u001b[0;34m(x, y, op)\u001b[0m\n\u001b[1;32m    265\u001b[0m         \u001b[0;31m#  (xint or xbool) and (yint or bool)\u001b[0m\u001b[0;34m\u001b[0m\u001b[0;34m\u001b[0m\u001b[0;34m\u001b[0m\u001b[0m\n\u001b[0;32m--> 266\u001b[0;31m         \u001b[0mresult\u001b[0m \u001b[0;34m=\u001b[0m \u001b[0mop\u001b[0m\u001b[0;34m(\u001b[0m\u001b[0mx\u001b[0m\u001b[0;34m,\u001b[0m \u001b[0my\u001b[0m\u001b[0;34m)\u001b[0m\u001b[0;34m\u001b[0m\u001b[0;34m\u001b[0m\u001b[0m\n\u001b[0m\u001b[1;32m    267\u001b[0m     \u001b[0;32mexcept\u001b[0m \u001b[0mTypeError\u001b[0m\u001b[0;34m:\u001b[0m\u001b[0;34m\u001b[0m\u001b[0;34m\u001b[0m\u001b[0m\n",
            "\u001b[0;31mTypeError\u001b[0m: unsupported operand type(s) for &: 'str' and 'int'",
            "\nDuring handling of the above exception, another exception occurred:\n",
            "\u001b[0;31mTypeError\u001b[0m                                 Traceback (most recent call last)",
            "\u001b[0;32m<ipython-input-6-c99e9628b013>\u001b[0m in \u001b[0;36m<module>\u001b[0;34m()\u001b[0m\n\u001b[1;32m      3\u001b[0m \u001b[0;34m\u001b[0m\u001b[0m\n\u001b[1;32m      4\u001b[0m \u001b[0;31m#ใส่คำตอบตรงนี้\u001b[0m\u001b[0;34m\u001b[0m\u001b[0;34m\u001b[0m\u001b[0;34m\u001b[0m\u001b[0m\n\u001b[0;32m----> 5\u001b[0;31m \u001b[0mdf\u001b[0m \u001b[0;34m=\u001b[0m \u001b[0mdf\u001b[0m\u001b[0;34m[\u001b[0m\u001b[0;34m'ลักษณะการเกิดอุบัติเหตุ '\u001b[0m\u001b[0;34m]\u001b[0m \u001b[0;34m&\u001b[0m \u001b[0mdf\u001b[0m\u001b[0;34m[\u001b[0m\u001b[0;34m'จำนวนผู้เสียชวิต'\u001b[0m\u001b[0;34m]\u001b[0m\u001b[0;34m\u001b[0m\u001b[0;34m\u001b[0m\u001b[0m\n\u001b[0m\u001b[1;32m      6\u001b[0m \u001b[0;31m# df['ลักษณะการเกิดอุบัติเหตุ '].value_counts().reset_index()\u001b[0m\u001b[0;34m\u001b[0m\u001b[0;34m\u001b[0m\u001b[0;34m\u001b[0m\u001b[0m\n\u001b[1;32m      7\u001b[0m \u001b[0;31m# df = df[(df['closing_price'] >= 99) & (df['closing_price'] <= 101)]\u001b[0m\u001b[0;34m\u001b[0m\u001b[0;34m\u001b[0m\u001b[0;34m\u001b[0m\u001b[0m\n",
            "\u001b[0;32m/usr/local/lib/python3.7/dist-packages/pandas/core/ops/common.py\u001b[0m in \u001b[0;36mnew_method\u001b[0;34m(self, other)\u001b[0m\n\u001b[1;32m     63\u001b[0m         \u001b[0mother\u001b[0m \u001b[0;34m=\u001b[0m \u001b[0mitem_from_zerodim\u001b[0m\u001b[0;34m(\u001b[0m\u001b[0mother\u001b[0m\u001b[0;34m)\u001b[0m\u001b[0;34m\u001b[0m\u001b[0;34m\u001b[0m\u001b[0m\n\u001b[1;32m     64\u001b[0m \u001b[0;34m\u001b[0m\u001b[0m\n\u001b[0;32m---> 65\u001b[0;31m         \u001b[0;32mreturn\u001b[0m \u001b[0mmethod\u001b[0m\u001b[0;34m(\u001b[0m\u001b[0mself\u001b[0m\u001b[0;34m,\u001b[0m \u001b[0mother\u001b[0m\u001b[0;34m)\u001b[0m\u001b[0;34m\u001b[0m\u001b[0;34m\u001b[0m\u001b[0m\n\u001b[0m\u001b[1;32m     66\u001b[0m \u001b[0;34m\u001b[0m\u001b[0m\n\u001b[1;32m     67\u001b[0m     \u001b[0;32mreturn\u001b[0m \u001b[0mnew_method\u001b[0m\u001b[0;34m\u001b[0m\u001b[0;34m\u001b[0m\u001b[0m\n",
            "\u001b[0;32m/usr/local/lib/python3.7/dist-packages/pandas/core/ops/__init__.py\u001b[0m in \u001b[0;36mwrapper\u001b[0;34m(self, other)\u001b[0m\n\u001b[1;32m    392\u001b[0m         \u001b[0mrvalues\u001b[0m \u001b[0;34m=\u001b[0m \u001b[0mextract_array\u001b[0m\u001b[0;34m(\u001b[0m\u001b[0mother\u001b[0m\u001b[0;34m,\u001b[0m \u001b[0mextract_numpy\u001b[0m\u001b[0;34m=\u001b[0m\u001b[0;32mTrue\u001b[0m\u001b[0;34m)\u001b[0m\u001b[0;34m\u001b[0m\u001b[0;34m\u001b[0m\u001b[0m\n\u001b[1;32m    393\u001b[0m \u001b[0;34m\u001b[0m\u001b[0m\n\u001b[0;32m--> 394\u001b[0;31m         \u001b[0mres_values\u001b[0m \u001b[0;34m=\u001b[0m \u001b[0mlogical_op\u001b[0m\u001b[0;34m(\u001b[0m\u001b[0mlvalues\u001b[0m\u001b[0;34m,\u001b[0m \u001b[0mrvalues\u001b[0m\u001b[0;34m,\u001b[0m \u001b[0mop\u001b[0m\u001b[0;34m)\u001b[0m\u001b[0;34m\u001b[0m\u001b[0;34m\u001b[0m\u001b[0m\n\u001b[0m\u001b[1;32m    395\u001b[0m         \u001b[0;32mreturn\u001b[0m \u001b[0mself\u001b[0m\u001b[0;34m.\u001b[0m\u001b[0m_construct_result\u001b[0m\u001b[0;34m(\u001b[0m\u001b[0mres_values\u001b[0m\u001b[0;34m,\u001b[0m \u001b[0mname\u001b[0m\u001b[0;34m=\u001b[0m\u001b[0mres_name\u001b[0m\u001b[0;34m)\u001b[0m\u001b[0;34m\u001b[0m\u001b[0;34m\u001b[0m\u001b[0m\n\u001b[1;32m    396\u001b[0m \u001b[0;34m\u001b[0m\u001b[0m\n",
            "\u001b[0;32m/usr/local/lib/python3.7/dist-packages/pandas/core/ops/array_ops.py\u001b[0m in \u001b[0;36mlogical_op\u001b[0;34m(left, right, op)\u001b[0m\n\u001b[1;32m    354\u001b[0m         \u001b[0mfiller\u001b[0m \u001b[0;34m=\u001b[0m \u001b[0mfill_int\u001b[0m \u001b[0;32mif\u001b[0m \u001b[0mis_self_int_dtype\u001b[0m \u001b[0;32mand\u001b[0m \u001b[0mis_other_int_dtype\u001b[0m \u001b[0;32melse\u001b[0m \u001b[0mfill_bool\u001b[0m\u001b[0;34m\u001b[0m\u001b[0;34m\u001b[0m\u001b[0m\n\u001b[1;32m    355\u001b[0m \u001b[0;34m\u001b[0m\u001b[0m\n\u001b[0;32m--> 356\u001b[0;31m         \u001b[0mres_values\u001b[0m \u001b[0;34m=\u001b[0m \u001b[0mna_logical_op\u001b[0m\u001b[0;34m(\u001b[0m\u001b[0mlvalues\u001b[0m\u001b[0;34m,\u001b[0m \u001b[0mrvalues\u001b[0m\u001b[0;34m,\u001b[0m \u001b[0mop\u001b[0m\u001b[0;34m)\u001b[0m\u001b[0;34m\u001b[0m\u001b[0;34m\u001b[0m\u001b[0m\n\u001b[0m\u001b[1;32m    357\u001b[0m         \u001b[0mres_values\u001b[0m \u001b[0;34m=\u001b[0m \u001b[0mfiller\u001b[0m\u001b[0;34m(\u001b[0m\u001b[0mres_values\u001b[0m\u001b[0;34m)\u001b[0m  \u001b[0;31m# type: ignore\u001b[0m\u001b[0;34m\u001b[0m\u001b[0;34m\u001b[0m\u001b[0m\n\u001b[1;32m    358\u001b[0m \u001b[0;34m\u001b[0m\u001b[0m\n",
            "\u001b[0;32m/usr/local/lib/python3.7/dist-packages/pandas/core/ops/array_ops.py\u001b[0m in \u001b[0;36mna_logical_op\u001b[0;34m(x, y, op)\u001b[0m\n\u001b[1;32m    271\u001b[0m             \u001b[0mx\u001b[0m \u001b[0;34m=\u001b[0m \u001b[0mensure_object\u001b[0m\u001b[0;34m(\u001b[0m\u001b[0mx\u001b[0m\u001b[0;34m)\u001b[0m\u001b[0;34m\u001b[0m\u001b[0;34m\u001b[0m\u001b[0m\n\u001b[1;32m    272\u001b[0m             \u001b[0my\u001b[0m \u001b[0;34m=\u001b[0m \u001b[0mensure_object\u001b[0m\u001b[0;34m(\u001b[0m\u001b[0my\u001b[0m\u001b[0;34m)\u001b[0m\u001b[0;34m\u001b[0m\u001b[0;34m\u001b[0m\u001b[0m\n\u001b[0;32m--> 273\u001b[0;31m             \u001b[0mresult\u001b[0m \u001b[0;34m=\u001b[0m \u001b[0mlibops\u001b[0m\u001b[0;34m.\u001b[0m\u001b[0mvec_binop\u001b[0m\u001b[0;34m(\u001b[0m\u001b[0mx\u001b[0m\u001b[0;34m.\u001b[0m\u001b[0mravel\u001b[0m\u001b[0;34m(\u001b[0m\u001b[0;34m)\u001b[0m\u001b[0;34m,\u001b[0m \u001b[0my\u001b[0m\u001b[0;34m.\u001b[0m\u001b[0mravel\u001b[0m\u001b[0;34m(\u001b[0m\u001b[0;34m)\u001b[0m\u001b[0;34m,\u001b[0m \u001b[0mop\u001b[0m\u001b[0;34m)\u001b[0m\u001b[0;34m\u001b[0m\u001b[0;34m\u001b[0m\u001b[0m\n\u001b[0m\u001b[1;32m    274\u001b[0m         \u001b[0;32melse\u001b[0m\u001b[0;34m:\u001b[0m\u001b[0;34m\u001b[0m\u001b[0;34m\u001b[0m\u001b[0m\n\u001b[1;32m    275\u001b[0m             \u001b[0;31m# let null fall thru\u001b[0m\u001b[0;34m\u001b[0m\u001b[0;34m\u001b[0m\u001b[0;34m\u001b[0m\u001b[0m\n",
            "\u001b[0;32mpandas/_libs/ops.pyx\u001b[0m in \u001b[0;36mpandas._libs.ops.vec_binop\u001b[0;34m()\u001b[0m\n",
            "\u001b[0;32mpandas/_libs/ops.pyx\u001b[0m in \u001b[0;36mpandas._libs.ops.vec_binop\u001b[0;34m()\u001b[0m\n",
            "\u001b[0;31mTypeError\u001b[0m: unsupported operand type(s) for &: 'str' and 'int'"
          ]
        }
      ]
    },
    {
      "cell_type": "markdown",
      "metadata": {
        "id": "B2J8YYib3nKh"
      },
      "source": [
        "7. อุบัติเหตุที่เกิดจาก `มูลเหตุสันนิษฐาน` เป็น `ขับรถเร็วเกินกำหนด` มีโอกาสทำให้มีผู้เสียชีวิตมากกว่า `มูลเหตุสันนิษฐาน` อื่นหรือไม่?"
      ]
    },
    {
      "cell_type": "code",
      "metadata": {
        "id": "_bDULA9A3nKh",
        "colab": {
          "base_uri": "https://localhost:8080/"
        },
        "outputId": "c4c851e0-cf15-4f8c-8931-1d92d7b9e9dd"
      },
      "source": [
        "#สร้าง column `drive_fast_flag` ที่จะเป็น 1 เมื่อ 'มูลเหตุสันนิษฐาน' เป็น 'ขับรถเร็วเกินกำหนด' (นอกนั้นเป็น 0) โดยใช้ map และ lambda\n",
        "df['drive_fast_flag'] = df['มูลเหตุสันนิษฐาน'].map(lambda x: 1 if x=='ขับรถเร็วเกินกำหนด' else 0)\n",
        "\n",
        "#สร้าง column `has_death` ที่จะเป็น 1 เมื่อ 'จำนวนผู้เสียชีวิต' มากกว่า 1 คน (นอกนั้นเป็น 0) โดยใช้ map และ lambda\n",
        "df['has_death'] = df['จำนวนผู้เสียชวิต'].map(lambda x: 1 if x<=1 else 0)\n",
        "df.groupby('drive_fast_flag').has_death.mean()\n",
        "# print(df['has_death'])\n",
        "#ใช้ groupby('drive_fast_flag').has_death.mean() เพื่อหาค่าเฉลี่ยของอุบัติเหตุที่มีผู้เสียชีวิต แบ่งด้วย drive_fast_flag\n"
      ],
      "execution_count": 38,
      "outputs": [
        {
          "output_type": "execute_result",
          "data": {
            "text/plain": [
              "drive_fast_flag\n",
              "0    0.974697\n",
              "1    0.982247\n",
              "Name: has_death, dtype: float64"
            ]
          },
          "metadata": {
            "tags": []
          },
          "execution_count": 38
        }
      ]
    }
  ]
}